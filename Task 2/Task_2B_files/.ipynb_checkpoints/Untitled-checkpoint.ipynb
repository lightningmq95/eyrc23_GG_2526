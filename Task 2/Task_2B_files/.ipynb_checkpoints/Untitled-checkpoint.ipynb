{
 "cells": [
  {
   "cell_type": "code",
   "execution_count": 1,
   "id": "252df480-6754-4064-8acd-c623a09b05d3",
   "metadata": {},
   "outputs": [],
   "source": [
    "import os\n",
    "import tensorflow as tf\n",
    "from tensorflow import keras\n",
    "from keras.layers import Dense, Flatten\n",
    "from keras.models import Sequential\n",
    "from keras.optimizers import Adam"
   ]
  },
  {
   "cell_type": "code",
   "execution_count": 2,
   "id": "134a44fb-ff19-4b1d-bad1-eabf461f8ec7",
   "metadata": {},
   "outputs": [],
   "source": [
    "folder_path = 'GG_2B'"
   ]
  },
  {
   "cell_type": "code",
   "execution_count": 3,
   "id": "ecdbe39f-d4b5-4615-a46f-78d5ee1d5ede",
   "metadata": {},
   "outputs": [],
   "source": [
    "train_dir = os.path.join(folder_path, 'train')\n",
    "test_dir = os.path.join(folder_path, 'test')"
   ]
  },
  {
   "cell_type": "code",
   "execution_count": 4,
   "id": "4605a472-e229-4573-907d-cff0254acdc0",
   "metadata": {},
   "outputs": [
    {
     "name": "stdout",
     "output_type": "stream",
     "text": [
      "Found 320 files belonging to 5 classes.\n",
      "Using 256 files for training.\n",
      "Found 80 files belonging to 5 classes.\n",
      "Using 16 files for validation.\n",
      "Epoch 1/10\n",
      "8/8 [==============================] - 9s 326ms/step - loss: 1.2253 - accuracy: 0.6445 - val_loss: 0.9591 - val_accuracy: 0.8125\n",
      "Epoch 2/10\n",
      "8/8 [==============================] - 2s 147ms/step - loss: 0.3253 - accuracy: 0.8984 - val_loss: 0.5548 - val_accuracy: 0.8750\n",
      "Epoch 3/10\n",
      "8/8 [==============================] - 2s 146ms/step - loss: 0.1167 - accuracy: 0.9531 - val_loss: 0.5612 - val_accuracy: 0.8125\n",
      "Epoch 4/10\n",
      "8/8 [==============================] - 2s 145ms/step - loss: 0.0776 - accuracy: 0.9805 - val_loss: 0.5063 - val_accuracy: 0.8125\n",
      "Epoch 5/10\n",
      "8/8 [==============================] - 2s 150ms/step - loss: 0.0299 - accuracy: 0.9922 - val_loss: 0.4923 - val_accuracy: 0.8750\n",
      "Epoch 6/10\n",
      "8/8 [==============================] - 2s 146ms/step - loss: 0.0458 - accuracy: 0.9844 - val_loss: 0.5897 - val_accuracy: 0.8750\n",
      "Epoch 7/10\n",
      "8/8 [==============================] - 2s 146ms/step - loss: 0.0253 - accuracy: 0.9883 - val_loss: 0.6070 - val_accuracy: 0.7500\n",
      "Epoch 8/10\n",
      "8/8 [==============================] - 2s 152ms/step - loss: 0.0160 - accuracy: 0.9961 - val_loss: 0.7725 - val_accuracy: 0.8125\n",
      "Epoch 9/10\n",
      "8/8 [==============================] - 2s 143ms/step - loss: 0.0014 - accuracy: 1.0000 - val_loss: 0.8720 - val_accuracy: 0.8750\n",
      "Epoch 10/10\n",
      "8/8 [==============================] - 2s 161ms/step - loss: 0.0040 - accuracy: 1.0000 - val_loss: 0.9357 - val_accuracy: 0.8750\n"
     ]
    }
   ],
   "source": [
    "img_height,img_width=64,64\n",
    "batch_size=32\n",
    "train_ds = keras.preprocessing.image_dataset_from_directory(\n",
    "  train_dir,\n",
    "  validation_split=0.2,\n",
    "  subset=\"training\",\n",
    "  seed=123,\n",
    "  image_size=(img_height, img_width),\n",
    "  batch_size=batch_size)\n",
    "\n",
    "val_ds = keras.preprocessing.image_dataset_from_directory(\n",
    "  test_dir,\n",
    "  validation_split=0.2,\n",
    "  subset=\"validation\",\n",
    "  seed=123,\n",
    "  image_size=(img_height, img_width),\n",
    "  batch_size=batch_size)\n",
    "\n",
    "resnet_model = Sequential()\n",
    "\n",
    "pretrained_model= keras.applications.efficientnet.EfficientNetB0(include_top=False,\n",
    "  input_shape=(64,64,3),\n",
    "  pooling='avg',classes=5,\n",
    "  weights='imagenet')\n",
    "\n",
    "for layer in pretrained_model.layers:\n",
    "  layer.trainable=False\n",
    "\n",
    "resnet_model.add(pretrained_model)\n",
    "resnet_model.add(Flatten())\n",
    "resnet_model.add(Dense(256, activation='relu'))\n",
    "resnet_model.add(Dense(5, activation='softmax'))\n",
    "resnet_model.compile(optimizer=Adam(learning_rate=0.01),loss='sparse_categorical_crossentropy',metrics=['accuracy'])\n",
    "\n",
    "epochs=10\n",
    "history = resnet_model.fit(\n",
    "  train_ds,\n",
    "  validation_data=val_ds,\n",
    "  epochs=epochs\n",
    ")\n",
    "\n",
    "resnet_model.save_weights('weights1.keras')\n",
    "resnet_model.save('model1.keras')"
   ]
  },
  {
   "cell_type": "code",
   "execution_count": 5,
   "id": "b0b9e596-9ae8-43c0-bbe6-7faef6a30a1c",
   "metadata": {},
   "outputs": [
    {
     "name": "stdout",
     "output_type": "stream",
     "text": [
      "1/1 [==============================] - 1s 1s/step\n",
      "fire\n"
     ]
    }
   ],
   "source": [
    "from tensorflow import keras\n",
    "import cv2\n",
    "import numpy as np\n",
    "model = keras.models.load_model(\"model1.keras\")\n",
    "image = cv2.imread('combat1.jpeg')\n",
    "img_height, img_width = 64, 64\n",
    "image_resized = cv2.resize(image, (img_height, img_width))\n",
    "image = np.expand_dims(image_resized, axis = 0)\n",
    "pred = model.predict(image)\n",
    "class_names = [\"combat\", \"humanitarianaid\", \"militaryvehicles\", \"fire\", \"destroyedbuilding\"]\n",
    "output_class = class_names[np.argmax(pred)]\n",
    "event = output_class\n",
    "print(event)"
   ]
  },
  {
   "cell_type": "code",
   "execution_count": 11,
   "id": "825f8b18-4c32-497f-aa82-71293ae954fa",
   "metadata": {},
   "outputs": [
    {
     "name": "stdout",
     "output_type": "stream",
     "text": [
      "1/1 [==============================] - 1s 1s/step\n",
      "militaryvehicles\n"
     ]
    }
   ],
   "source": [
    "from tensorflow import keras\n",
    "import cv2\n",
    "import numpy as np\n",
    "model = keras.models.load_model(\"model1.keras\")\n",
    "image = cv2.imread('fire2.jpeg')\n",
    "img_height, img_width = 64, 64\n",
    "image_resized = cv2.resize(image, (img_height, img_width))\n",
    "image = np.expand_dims(image_resized, axis = 0)\n",
    "pred = model.predict(image)\n",
    "class_names = [\"combat\", \"humanitarianaid\", \"militaryvehicles\", \"fire\", \"destroyedbuilding\"]\n",
    "output_class = class_names[np.argmax(pred)]\n",
    "event = output_class\n",
    "print(event)"
   ]
  },
  {
   "cell_type": "code",
   "execution_count": null,
   "id": "d87a9a51-fc1f-4a75-b141-43ac057842aa",
   "metadata": {},
   "outputs": [],
   "source": []
  },
  {
   "cell_type": "code",
   "execution_count": null,
   "id": "8e2fb45c-0458-416c-b5d7-93a821148c27",
   "metadata": {},
   "outputs": [],
   "source": [
    "from tensorflow import keras\n",
    "import cv2\n",
    "import numpy as np\n",
    "image = cv2.imread('fire2.jpeg')\n",
    "image_resized = cv2.resize(image, (64, 64))\n",
    "image = np.expand_dims(image_resized, axis=0)\n",
    "model = keras.models.load_model('model3.keras')\n",
    "pred = model.predict(image)\n",
    "class_names = ['combat', 'destroyedbuilding', 'fire', 'humanitarianaid', 'militaryvehicles']\n",
    "event = class_names[np.argmax(pred)]\n",
    "return event"
   ]
  }
 ],
 "metadata": {
  "kernelspec": {
   "display_name": "GG_2526",
   "language": "python",
   "name": "gg_2526"
  },
  "language_info": {
   "codemirror_mode": {
    "name": "ipython",
    "version": 3
   },
   "file_extension": ".py",
   "mimetype": "text/x-python",
   "name": "python",
   "nbconvert_exporter": "python",
   "pygments_lexer": "ipython3",
   "version": "3.9.18"
  }
 },
 "nbformat": 4,
 "nbformat_minor": 5
}
