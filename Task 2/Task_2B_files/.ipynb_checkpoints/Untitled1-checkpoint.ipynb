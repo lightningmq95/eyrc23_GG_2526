{
 "cells": [
  {
   "cell_type": "code",
   "execution_count": 1,
   "id": "f87b94a5-7766-4d89-ab8a-f080fd09ed0c",
   "metadata": {},
   "outputs": [],
   "source": [
    "import os\n",
    "import tensorflow as tf\n",
    "from tensorflow import keras\n",
    "from keras.layers import Dense, Flatten\n",
    "from keras.models import Sequential\n",
    "from keras.optimizers import Adam"
   ]
  },
  {
   "cell_type": "code",
   "execution_count": 2,
   "id": "5518da65-3586-4651-9a78-acb3c615a3d4",
   "metadata": {},
   "outputs": [],
   "source": [
    "folder_path = 'GG_2B'"
   ]
  },
  {
   "cell_type": "code",
   "execution_count": 3,
   "id": "c7e15792-93ea-450a-848c-378516268e92",
   "metadata": {},
   "outputs": [],
   "source": [
    "train_dir = os.path.join(folder_path, 'train')\n",
    "test_dir = os.path.join(folder_path, 'test')"
   ]
  },
  {
   "cell_type": "code",
   "execution_count": null,
   "id": "a5cd7008-1401-46bc-8230-003822c89956",
   "metadata": {},
   "outputs": [],
   "source": [
    "img_height,img_width=64,64\n",
    "batch_size=32\n",
    "train_ds = keras.preprocessing.image_dataset_from_directory(\n",
    "  train_dir,\n",
    "  validation_split=0.2,\n",
    "  subset=\"training\",\n",
    "  seed=123,\n",
    "  image_size=(img_height, img_width),\n",
    "  batch_size=batch_size)\n",
    "\n",
    "val_ds = keras.preprocessing.image_dataset_from_directory(\n",
    "  test_dir,\n",
    "  validation_split=0.2,\n",
    "  subset=\"validation\",\n",
    "  seed=123,\n",
    "  image_size=(img_height, img_width),\n",
    "  batch_size=batch_size)\n",
    "\n",
    "resnet_model = Sequential()\n",
    "\n",
    "pretrained_model= keras.applications.efficientnet.EfficientNetB0(include_top=False,\n",
    "  input_shape=(64,64,3),\n",
    "  pooling='avg',classes=5,\n",
    "  weights='imagenet')\n",
    "\n",
    "for layer in pretrained_model.layers:\n",
    "  layer.trainable=False\n",
    "\n",
    "resnet_model.add(pretrained_model)\n",
    "resnet_model.add(Flatten())\n",
    "resnet_model.add(Dense(256, activation='relu'))\n",
    "resnet_model.add(Dense(5, activation='softmax'))\n",
    "resnet_model.compile(optimizer=Adam(learning_rate=0.01),loss='sparse_categorical_crossentropy',metrics=['accuracy'])\n",
    "\n",
    "epochs=10\n",
    "history = resnet_model.fit(\n",
    "  train_ds,\n",
    "  validation_data=val_ds,\n",
    "  epochs=epochs\n",
    ")\n",
    "\n",
    "resnet_model.save_weights('weights3.keras')\n",
    "resnet_model.save('model3.keras')"
   ]
  }
 ],
 "metadata": {
  "kernelspec": {
   "display_name": "Python 3 (ipykernel)",
   "language": "python",
   "name": "python3"
  },
  "language_info": {
   "codemirror_mode": {
    "name": "ipython",
    "version": 3
   },
   "file_extension": ".py",
   "mimetype": "text/x-python",
   "name": "python",
   "nbconvert_exporter": "python",
   "pygments_lexer": "ipython3",
   "version": "3.9.18"
  }
 },
 "nbformat": 4,
 "nbformat_minor": 5
}
