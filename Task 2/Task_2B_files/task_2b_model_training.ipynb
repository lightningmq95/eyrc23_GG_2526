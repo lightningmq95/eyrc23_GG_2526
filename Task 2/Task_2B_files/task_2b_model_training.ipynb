{
 "cells": [
  {
   "cell_type": "code",
   "execution_count": 4,
   "id": "f87b94a5-7766-4d89-ab8a-f080fd09ed0c",
   "metadata": {},
   "outputs": [],
   "source": [
    "import os\n",
    "import tensorflow as tf\n",
    "from tensorflow import keras\n",
    "from keras.layers import Dense, Flatten\n",
    "from keras.models import Sequential\n",
    "from keras.optimizers import Adam"
   ]
  },
  {
   "cell_type": "code",
   "execution_count": 5,
   "id": "5518da65-3586-4651-9a78-acb3c615a3d4",
   "metadata": {},
   "outputs": [],
   "source": [
    "folder_path = 'GG_2B'"
   ]
  },
  {
   "cell_type": "code",
   "execution_count": 6,
   "id": "c7e15792-93ea-450a-848c-378516268e92",
   "metadata": {},
   "outputs": [],
   "source": [
    "train_dir = os.path.join(folder_path, 'train')\n",
    "test_dir = os.path.join(folder_path, 'test')"
   ]
  },
  {
   "cell_type": "code",
   "execution_count": 7,
   "id": "a5cd7008-1401-46bc-8230-003822c89956",
   "metadata": {},
   "outputs": [
    {
     "name": "stdout",
     "output_type": "stream",
     "text": [
      "Found 320 files belonging to 5 classes.\n",
      "Using 256 files for training.\n",
      "Found 80 files belonging to 5 classes.\n",
      "Using 16 files for validation.\n",
      "Epoch 1/10\n",
      "8/8 [==============================] - 9s 332ms/step - loss: 1.0409 - accuracy: 0.6328 - val_loss: 0.6544 - val_accuracy: 0.7500\n",
      "Epoch 2/10\n",
      "8/8 [==============================] - 2s 142ms/step - loss: 0.3256 - accuracy: 0.9062 - val_loss: 0.5476 - val_accuracy: 0.8750\n",
      "Epoch 3/10\n",
      "8/8 [==============================] - 2s 145ms/step - loss: 0.1372 - accuracy: 0.9688 - val_loss: 0.6043 - val_accuracy: 0.8750\n",
      "Epoch 4/10\n",
      "8/8 [==============================] - 2s 147ms/step - loss: 0.0717 - accuracy: 0.9961 - val_loss: 0.5404 - val_accuracy: 0.8750\n",
      "Epoch 5/10\n",
      "8/8 [==============================] - 2s 150ms/step - loss: 0.0474 - accuracy: 0.9961 - val_loss: 0.5721 - val_accuracy: 0.8750\n",
      "Epoch 6/10\n",
      "8/8 [==============================] - 2s 140ms/step - loss: 0.0304 - accuracy: 1.0000 - val_loss: 0.6290 - val_accuracy: 0.8750\n",
      "Epoch 7/10\n",
      "8/8 [==============================] - 2s 146ms/step - loss: 0.0243 - accuracy: 1.0000 - val_loss: 0.6140 - val_accuracy: 0.8750\n",
      "Epoch 8/10\n",
      "8/8 [==============================] - 2s 146ms/step - loss: 0.0209 - accuracy: 1.0000 - val_loss: 0.6312 - val_accuracy: 0.8750\n",
      "Epoch 9/10\n",
      "8/8 [==============================] - 2s 156ms/step - loss: 0.0184 - accuracy: 0.9961 - val_loss: 0.6519 - val_accuracy: 0.8750\n",
      "Epoch 10/10\n",
      "8/8 [==============================] - 2s 168ms/step - loss: 0.0125 - accuracy: 1.0000 - val_loss: 0.6484 - val_accuracy: 0.8750\n"
     ]
    }
   ],
   "source": [
    "img_height,img_width=64,64\n",
    "batch_size=32\n",
    "train_ds = keras.preprocessing.image_dataset_from_directory(\n",
    "  train_dir,\n",
    "  validation_split=0.2,\n",
    "  subset=\"training\",\n",
    "  seed=123,\n",
    "  image_size=(img_height, img_width),\n",
    "  batch_size=batch_size)\n",
    "\n",
    "val_ds = keras.preprocessing.image_dataset_from_directory(\n",
    "  test_dir,\n",
    "  validation_split=0.2,\n",
    "  subset=\"validation\",\n",
    "  seed=123,\n",
    "  image_size=(img_height, img_width),\n",
    "  batch_size=batch_size)\n",
    "\n",
    "resnet_model = Sequential()\n",
    "\n",
    "pretrained_model= keras.applications.efficientnet.EfficientNetB0(include_top=False,\n",
    "  input_shape=(64,64,3),\n",
    "  pooling='avg',classes=5,\n",
    "  weights='imagenet')\n",
    "\n",
    "for layer in pretrained_model.layers:\n",
    "  layer.trainable=False\n",
    "\n",
    "resnet_model.add(pretrained_model)\n",
    "resnet_model.add(Flatten())\n",
    "resnet_model.add(Dense(256, activation='relu'))\n",
    "resnet_model.add(Dense(5, activation='softmax'))\n",
    "resnet_model.compile(optimizer=Adam(learning_rate=0.001),loss='sparse_categorical_crossentropy',metrics=['accuracy'])\n",
    "\n",
    "epochs=10\n",
    "history = resnet_model.fit(\n",
    "  train_ds,\n",
    "  validation_data=val_ds,\n",
    "  epochs=epochs\n",
    ")\n",
    "\n",
    "resnet_model.save_weights('weights3.keras')\n",
    "resnet_model.save('model3.keras')"
   ]
  },
  {
   "cell_type": "code",
   "execution_count": null,
   "id": "3506088f-57c5-4b5d-863c-b79d916d8aac",
   "metadata": {},
   "outputs": [],
   "source": []
  }
 ],
 "metadata": {
  "kernelspec": {
   "display_name": "GG_2526",
   "language": "python",
   "name": "python3"
  },
  "language_info": {
   "codemirror_mode": {
    "name": "ipython",
    "version": 3
   },
   "file_extension": ".py",
   "mimetype": "text/x-python",
   "name": "python",
   "nbconvert_exporter": "python",
   "pygments_lexer": "ipython3",
   "version": "3.9.18"
  }
 },
 "nbformat": 4,
 "nbformat_minor": 5
}
