{
 "cells": [
  {
   "cell_type": "code",
   "execution_count": 1,
   "id": "f87b94a5-7766-4d89-ab8a-f080fd09ed0c",
   "metadata": {},
   "outputs": [],
   "source": [
    "import os\n",
    "import tensorflow as tf\n",
    "from tensorflow import keras\n",
    "from keras.layers import Dense, Flatten\n",
    "from keras.models import Sequential\n",
    "from keras.optimizers import Adam"
   ]
  },
  {
   "cell_type": "code",
   "execution_count": 2,
   "id": "5518da65-3586-4651-9a78-acb3c615a3d4",
   "metadata": {},
   "outputs": [],
   "source": [
    "folder_path = 'GG_4A'"
   ]
  },
  {
   "cell_type": "code",
   "execution_count": 3,
   "id": "c7e15792-93ea-450a-848c-378516268e92",
   "metadata": {},
   "outputs": [],
   "source": [
    "train_dir = os.path.join(folder_path, 'train')\n",
    "test_dir = os.path.join(folder_path, 'test')"
   ]
  },
  {
   "cell_type": "code",
   "execution_count": 4,
   "id": "a5cd7008-1401-46bc-8230-003822c89956",
   "metadata": {},
   "outputs": [
    {
     "name": "stdout",
     "output_type": "stream",
     "text": [
      "Found 320 files belonging to 5 classes.\n",
      "Using 256 files for training.\n",
      "Found 80 files belonging to 5 classes.\n",
      "Using 16 files for validation.\n",
      "Epoch 1/10\n",
      "8/8 [==============================] - 27s 3s/step - loss: 0.7278 - accuracy: 0.7656 - val_loss: 0.1372 - val_accuracy: 0.9375\n",
      "Epoch 2/10\n",
      "8/8 [==============================] - 21s 2s/step - loss: 0.0725 - accuracy: 0.9883 - val_loss: 0.0347 - val_accuracy: 1.0000\n",
      "Epoch 3/10\n",
      "8/8 [==============================] - 17s 2s/step - loss: 0.0281 - accuracy: 0.9883 - val_loss: 0.0175 - val_accuracy: 1.0000\n",
      "Epoch 4/10\n",
      "8/8 [==============================] - 17s 2s/step - loss: 0.0103 - accuracy: 1.0000 - val_loss: 0.0135 - val_accuracy: 1.0000\n",
      "Epoch 5/10\n",
      "8/8 [==============================] - 17s 2s/step - loss: 0.0066 - accuracy: 1.0000 - val_loss: 0.0110 - val_accuracy: 1.0000\n",
      "Epoch 6/10\n",
      "8/8 [==============================] - 17s 2s/step - loss: 0.0035 - accuracy: 1.0000 - val_loss: 0.0097 - val_accuracy: 1.0000\n",
      "Epoch 7/10\n",
      "8/8 [==============================] - 17s 2s/step - loss: 0.0037 - accuracy: 1.0000 - val_loss: 0.0096 - val_accuracy: 1.0000\n",
      "Epoch 8/10\n",
      "8/8 [==============================] - 17s 2s/step - loss: 0.0038 - accuracy: 1.0000 - val_loss: 0.0098 - val_accuracy: 1.0000\n",
      "Epoch 9/10\n",
      "8/8 [==============================] - 16s 2s/step - loss: 0.0023 - accuracy: 1.0000 - val_loss: 0.0098 - val_accuracy: 1.0000\n",
      "Epoch 10/10\n",
      "8/8 [==============================] - 17s 2s/step - loss: 0.0021 - accuracy: 1.0000 - val_loss: 0.0095 - val_accuracy: 1.0000\n"
     ]
    }
   ],
   "source": [
    "img_height,img_width=224,224\n",
    "batch_size=32\n",
    "train_ds = keras.preprocessing.image_dataset_from_directory(\n",
    "  train_dir,\n",
    "  validation_split=0.2,\n",
    "  subset=\"training\",\n",
    "  seed=123,\n",
    "  image_size=(img_height, img_width),\n",
    "  batch_size=batch_size)\n",
    "\n",
    "val_ds = keras.preprocessing.image_dataset_from_directory(\n",
    "  test_dir,\n",
    "  validation_split=0.2,\n",
    "  subset=\"validation\",\n",
    "  seed=123,\n",
    "  image_size=(img_height, img_width),\n",
    "  batch_size=batch_size)\n",
    "\n",
    "resnet_model = Sequential()\n",
    "\n",
    "pretrained_model= keras.applications.efficientnet.EfficientNetB0(include_top=False,\n",
    "  input_shape=(224,224,3),\n",
    "  pooling='avg',classes=5,\n",
    "  weights='imagenet')\n",
    "\n",
    "for layer in pretrained_model.layers:\n",
    "  layer.trainable=False\n",
    "\n",
    "resnet_model.add(pretrained_model)\n",
    "resnet_model.add(Flatten())\n",
    "resnet_model.add(Dense(256, activation='relu'))\n",
    "resnet_model.add(Dense(5, activation='softmax'))\n",
    "resnet_model.compile(optimizer=Adam(learning_rate=0.001),loss='sparse_categorical_crossentropy',metrics=['accuracy'])\n",
    "\n",
    "epochs=10\n",
    "history = resnet_model.fit(\n",
    "  train_ds,\n",
    "  validation_data=val_ds,\n",
    "  epochs=epochs\n",
    ")\n",
    "\n",
    "resnet_model.save('keras_model.h5')"
   ]
  },
  {
   "cell_type": "code",
   "execution_count": null,
   "id": "7e3e7d14",
   "metadata": {},
   "outputs": [],
   "source": []
  }
 ],
 "metadata": {
  "kernelspec": {
   "display_name": "GG_2526",
   "language": "python",
   "name": "python3"
  },
  "language_info": {
   "codemirror_mode": {
    "name": "ipython",
    "version": 3
   },
   "file_extension": ".py",
   "mimetype": "text/x-python",
   "name": "python",
   "nbconvert_exporter": "python",
   "pygments_lexer": "ipython3",
   "version": "3.9.18"
  }
 },
 "nbformat": 4,
 "nbformat_minor": 5
}
