{
 "cells": [
  {
   "cell_type": "code",
   "execution_count": 18,
   "metadata": {},
   "outputs": [
    {
     "name": "stdout",
     "output_type": "stream",
     "text": [
      "Box 1: (x, y, w, h, area) = (228, 753, 94, 96, 9024)\n",
      "Box 2: (x, y, w, h, area) = (647, 560, 89, 100, 8900)\n",
      "Box 3: (x, y, w, h, area) = (647, 405, 87, 83, 7221)\n",
      "Box 4: (x, y, w, h, area) = (229, 402, 91, 85, 7735)\n",
      "Box 5: (x, y, w, h, area) = (255, 148, 86, 75, 6450)\n"
     ]
    }
   ],
   "source": [
    "import cv2\n",
    "import numpy as np\n",
    "\n",
    "def draw_and_measure_boxes(img_path, threshold_value=200, box_color=(0, 255, 0), box_thickness=2,\n",
    "                           min_area=6000, max_area=9100):\n",
    "    # Load the image\n",
    "    img = cv2.imread(img_path)\n",
    "\n",
    "    # Convert to grayscale and threshold to create a binary image\n",
    "    gray = cv2.cvtColor(img, cv2.COLOR_BGR2GRAY)\n",
    "    thresh = cv2.threshold(gray, threshold_value, 255, cv2.THRESH_BINARY)[1]\n",
    "\n",
    "    # Find contours of the white boundaries\n",
    "    contours, hierarchy = cv2.findContours(thresh, cv2.RETR_EXTERNAL, cv2.CHAIN_APPROX_SIMPLE)\n",
    "\n",
    "    # Store valid bounding boxes and areas\n",
    "    bounding_boxes = []\n",
    "    for cntr in contours:\n",
    "        x, y, w, h = cv2.boundingRect(cntr)\n",
    "        area = w * h  # Calculate area\n",
    "\n",
    "        # Filter boxes based on area range\n",
    "        if min_area <= area <= max_area:\n",
    "            # Draw the bounding box\n",
    "            cv2.rectangle(img, (x, y), (x+w, y+h), box_color, box_thickness)\n",
    "\n",
    "            bounding_boxes.append((x, y, w, h, area))\n",
    "\n",
    "    # Display the image with bounding boxes and areas\n",
    "    for i, box in enumerate(bounding_boxes):\n",
    "        x, y, w, h, area = box\n",
    "        cv2.putText(img, f\"\", (x + 5, y + h - 5), cv2.FONT_HERSHEY_SIMPLEX, 0.5, box_color, 1)\n",
    "\n",
    "    cv2.imshow('Image with Bounding Boxes and Areas', img)\n",
    "    cv2.waitKey(0)\n",
    "    cv2.destroyAllWindows()\n",
    "\n",
    "    return bounding_boxes\n",
    "\n",
    "# Example usage:\n",
    "image_path = \"Images/flex1.jpg\"\n",
    "boxes = draw_and_measure_boxes(image_path, min_area=6000, max_area=9100)\n",
    "\n",
    "# Access individual box information and areas:\n",
    "for i, box in enumerate(boxes):\n",
    "    x, y, w, h, area = box\n",
    "    print(f\"Box {i+1}: (x, y, w, h, area) = {(x, y, w, h, area)}\")"
   ]
  },
  {
   "cell_type": "code",
   "execution_count": null,
   "metadata": {},
   "outputs": [],
   "source": []
  }
 ],
 "metadata": {
  "kernelspec": {
   "display_name": "GG_2526",
   "language": "python",
   "name": "python3"
  },
  "language_info": {
   "codemirror_mode": {
    "name": "ipython",
    "version": 3
   },
   "file_extension": ".py",
   "mimetype": "text/x-python",
   "name": "python",
   "nbconvert_exporter": "python",
   "pygments_lexer": "ipython3",
   "version": "3.9.18"
  }
 },
 "nbformat": 4,
 "nbformat_minor": 2
}
